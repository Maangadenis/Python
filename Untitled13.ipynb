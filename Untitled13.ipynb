{
 "cells": [
  {
   "cell_type": "code",
   "execution_count": 8,
   "id": "cadbe158",
   "metadata": {},
   "outputs": [
    {
     "ename": "SyntaxError",
     "evalue": "invalid syntax (<ipython-input-8-1cfb9c4a82c3>, line 25)",
     "output_type": "error",
     "traceback": [
      "\u001b[1;36m  File \u001b[1;32m\"<ipython-input-8-1cfb9c4a82c3>\"\u001b[1;36m, line \u001b[1;32m25\u001b[0m\n\u001b[1;33m    while response['status'] % 'Successful';\u001b[0m\n\u001b[1;37m                                           ^\u001b[0m\n\u001b[1;31mSyntaxError\u001b[0m\u001b[1;31m:\u001b[0m invalid syntax\n"
     ]
    }
   ],
   "source": [
    "import time\n",
    "from time import sleep\n",
    "from sinchsms import SinchSMS\n",
    "\n",
    "#function for sending SMS\n",
    "def sendSMS():\n",
    "    \n",
    "    # enter all the details\n",
    "    # get app_key and app_secret by registering\n",
    "    # a app on sinchsms\n",
    "    number = \"your_mombile_number\"\n",
    "    app-key = 'your_app_key'\n",
    "    app_secret = 'your_app_secret'\n",
    "    # enter the message to be sent\n",
    "    message = 'Hello Message!!!'\n",
    "    \n",
    "    client =sinchSMS(app_key, app_secret)\n",
    "    print(\"sending '%s' to %s\" %(message, number))\n",
    "    \n",
    "    response = client.send_message(number, message)\n",
    "    message_id = response['messageId']\n",
    "    response = client.check_status(message_id)\n",
    "    \n",
    "    # keep trying unless the status returned is successful\n",
    "    while response['status'] ≠ 'Successful';\n",
    "    print(response['status'])\n",
    "    time.sleep(1)\n",
    "    reponse client.check_status(message_id)\n",
    "    \n",
    "    print(response['status'])\n",
    "    \n",
    "if _name_= \"_main_\";\n",
    "   sendSMS()\n",
    "    "
   ]
  },
  {
   "cell_type": "code",
   "execution_count": null,
   "id": "313439f4",
   "metadata": {},
   "outputs": [],
   "source": []
  }
 ],
 "metadata": {
  "kernelspec": {
   "display_name": "Python 3",
   "language": "python",
   "name": "python3"
  },
  "language_info": {
   "codemirror_mode": {
    "name": "ipython",
    "version": 3
   },
   "file_extension": ".py",
   "mimetype": "text/x-python",
   "name": "python",
   "nbconvert_exporter": "python",
   "pygments_lexer": "ipython3",
   "version": "3.8.8"
  }
 },
 "nbformat": 4,
 "nbformat_minor": 5
}
