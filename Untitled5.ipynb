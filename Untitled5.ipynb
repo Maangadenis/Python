{
 "cells": [
  {
   "cell_type": "code",
   "execution_count": 1,
   "id": "43964c67",
   "metadata": {},
   "outputs": [
    {
     "name": "stdout",
     "output_type": "stream",
     "text": [
      "🤗\n"
     ]
    }
   ],
   "source": [
    "print(\"\\U0001F917\")"
   ]
  },
  {
   "cell_type": "code",
   "execution_count": 3,
   "id": "31043501",
   "metadata": {},
   "outputs": [
    {
     "name": "stdout",
     "output_type": "stream",
     "text": [
      "😷\n"
     ]
    }
   ],
   "source": [
    "print(\"\\U0001F637\")"
   ]
  },
  {
   "cell_type": "code",
   "execution_count": 4,
   "id": "a8055150",
   "metadata": {},
   "outputs": [
    {
     "name": "stdout",
     "output_type": "stream",
     "text": [
      "😪\n"
     ]
    }
   ],
   "source": [
    "print(\"\\U0001F62A\")"
   ]
  },
  {
   "cell_type": "code",
   "execution_count": 5,
   "id": "f17c40f3",
   "metadata": {},
   "outputs": [
    {
     "name": "stdout",
     "output_type": "stream",
     "text": [
      "😘\n"
     ]
    }
   ],
   "source": [
    "print(\"\\U0001F618\")"
   ]
  },
  {
   "cell_type": "code",
   "execution_count": 6,
   "id": "0ed09762",
   "metadata": {},
   "outputs": [
    {
     "name": "stdout",
     "output_type": "stream",
     "text": [
      "😀\n"
     ]
    }
   ],
   "source": [
    "print(\"\\U0001F600\")"
   ]
  },
  {
   "cell_type": "code",
   "execution_count": 9,
   "id": "d2015da7",
   "metadata": {},
   "outputs": [
    {
     "name": "stdout",
     "output_type": "stream",
     "text": [
      "🤗\n",
      "😷\n",
      "😪\n",
      "😘\n",
      "😀\n",
      "🍅\n",
      "🀁\n"
     ]
    }
   ],
   "source": [
    "print(\"\\U0001F917\")\n",
    "print(\"\\U0001F637\")\n",
    "print(\"\\U0001F62A\")\n",
    "print(\"\\U0001F618\")\n",
    "print(\"\\U0001F600\")\n",
    "print(\"\\U0001F345\")\n",
    "print(\"\\U0001F001\")"
   ]
  },
  {
   "cell_type": "code",
   "execution_count": null,
   "id": "bbcb7d56",
   "metadata": {},
   "outputs": [],
   "source": []
  },
  {
   "cell_type": "code",
   "execution_count": null,
   "id": "591c8767",
   "metadata": {},
   "outputs": [],
   "source": []
  }
 ],
 "metadata": {
  "kernelspec": {
   "display_name": "Python 3",
   "language": "python",
   "name": "python3"
  },
  "language_info": {
   "codemirror_mode": {
    "name": "ipython",
    "version": 3
   },
   "file_extension": ".py",
   "mimetype": "text/x-python",
   "name": "python",
   "nbconvert_exporter": "python",
   "pygments_lexer": "ipython3",
   "version": "3.8.8"
  }
 },
 "nbformat": 4,
 "nbformat_minor": 5
}
