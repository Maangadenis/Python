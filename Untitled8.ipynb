{
 "cells": [
  {
   "cell_type": "code",
   "execution_count": 1,
   "id": "a47b72b2",
   "metadata": {},
   "outputs": [
    {
     "name": "stdout",
     "output_type": "stream",
     "text": [
      "[1 2 3]\n",
      "(3,)\n"
     ]
    }
   ],
   "source": [
    "# Define an array\n",
    "import numpy as np\n",
    "mylist = [1, 2, 3]\n",
    "myarray = np.array(mylist)\n",
    "print(myarray)\n",
    "print(myarray.shape)"
   ]
  },
  {
   "cell_type": "code",
   "execution_count": 2,
   "id": "1242b875",
   "metadata": {},
   "outputs": [
    {
     "name": "stdout",
     "output_type": "stream",
     "text": [
      "[[1 2 3]\n",
      " [3 4 5]]\n",
      "(2, 3)\n",
      "First row: [1 2 3]\n",
      "Second row: [3 4 5]\n",
      "Whole column: [3 5]\n"
     ]
    }
   ],
   "source": [
    "import numpy as np\n",
    "mylist = [[1, 2, 3], [3, 4, 5]]\n",
    "myarray = np.array(mylist)\n",
    "print(myarray)\n",
    "print(myarray.shape)\n",
    "print(\"First row: %s\" %myarray[0])\n",
    "print(\"Second row: %s\" %myarray[1])\n",
    "print(\"Whole column: %s\"%myarray[: ,2])"
   ]
  },
  {
   "cell_type": "code",
   "execution_count": 3,
   "id": "fecd738f",
   "metadata": {},
   "outputs": [
    {
     "name": "stdout",
     "output_type": "stream",
     "text": [
      "addition: [5 5 5]\n",
      "multiplication: [6 6 6]\n"
     ]
    }
   ],
   "source": [
    "# Arithmetic\n",
    "import numpy as np\n",
    "myarray1 = np.array([2, 2, 2])\n",
    "myarray2 = np.array([3, 3, 3])\n",
    "print(\"addition: %s\" %(myarray1+myarray2))\n",
    "print(\"multiplication: %s\" %(myarray1*myarray2))"
   ]
  },
  {
   "cell_type": "code",
   "execution_count": 4,
   "id": "0fc7a281",
   "metadata": {},
   "outputs": [
    {
     "data": {
      "image/png": "[encoded data removed]",
      "text/plain": [
       "<Figure size 432x288 with 1 Axes>"
      ]
     },
     "metadata": {
      "needs_background": "light"
     },
     "output_type": "display_data"
    }
   ],
   "source": [
    "# Basic bar plot\n",
    "import matplotlib.pyplot as plt\n",
    "import numpy as np\n",
    "myarray = np.array([10, 10, 20, 30, 30, 40, 50])\n",
    "plt.hist(myarray)\n",
    "plt.xlabel(\"somex axis\")\n",
    "plt.ylabel(\"somey axis\")\n",
    "plt.show()"
   ]
  },
  {
   "cell_type": "code",
   "execution_count": 5,
   "id": "34d6f4c3",
   "metadata": {},
   "outputs": [
    {
     "data": {
      "image/png": "[encoded data removed]",
      "text/plain": [
       "<Figure size 432x288 with 1 Axes>"
      ]
     },
     "metadata": {
      "needs_background": "light"
     },
     "output_type": "display_data"
    }
   ],
   "source": [
    "import matplotlib.pyplot as plt\n",
    "import numpy as np\n",
    "myarray = np.array([1,2, 3, 2, 10])\n",
    "plt.plot(myarray)\n",
    "plt.xlabel(\"some x axis\")\n",
    "plt.ylabel(\"some y axis\")\n",
    "plt.show()"
   ]
  },
  {
   "cell_type": "code",
   "execution_count": 6,
   "id": "74fb2c25",
   "metadata": {},
   "outputs": [
    {
     "data": {
      "image/png": "[encoded data removed]",
      "text/plain": [
       "<Figure size 432x288 with 1 Axes>"
      ]
     },
     "metadata": {
      "needs_background": "light"
     },
     "output_type": "display_data"
    }
   ],
   "source": [
    "# Basic scatter plot\n",
    "import matplotlib.pyplot as plt\n",
    "import numpy as np\n",
    "x = np.array([1, 2, 3, 4, 5])\n",
    "y = np.array([2, 4, 6, 8, 9])\n",
    "plt.scatter(x,y)\n",
    "plt.xlabel(\"Some X axix\")\n",
    "plt.ylabel(\"Some y axis\")\n",
    "plt.show()\n"
   ]
  },
  {
   "cell_type": "code",
   "execution_count": 7,
   "id": "fdf1ee4d",
   "metadata": {},
   "outputs": [
    {
     "name": "stdout",
     "output_type": "stream",
     "text": [
      "71.46666666666667\n"
     ]
    }
   ],
   "source": [
    "import numpy as np\n",
    "# we can define it as an array in python\n",
    "heart_rate = [80, 79, 70, 66, 77, 65, 71, 78, 66, 68, 67, 64, 71, 82, 68]\n",
    "mean_heart_rate = np.mean(heart_rate)\n",
    "print(mean_heart_rate)\n"
   ]
  },
  {
   "cell_type": "code",
   "execution_count": 9,
   "id": "45efa846",
   "metadata": {},
   "outputs": [
    {
     "name": "stdout",
     "output_type": "stream",
     "text": [
      "70.0\n"
     ]
    }
   ],
   "source": [
    "import numpy as np\n",
    "# we can define it as an array in python\n",
    "heart_rate = [80, 79, 70, 66, 77, 65, 71, 78, 66, 68, 67, 64, 71, 82, 68]\n",
    "median_heart_rate = np.median(heart_rate)\n",
    "print(median_heart_rate)\n"
   ]
  },
  {
   "cell_type": "code",
   "execution_count": 12,
   "id": "83fcb532",
   "metadata": {},
   "outputs": [
    {
     "ename": "SyntaxError",
     "evalue": "EOL while scanning string literal (<ipython-input-12-b855de04e0a8>, line 5)",
     "output_type": "error",
     "traceback": [
      "\u001b[1;36m  File \u001b[1;32m\"<ipython-input-12-b855de04e0a8>\"\u001b[1;36m, line \u001b[1;32m5\u001b[0m\n\u001b[1;33m    print(f\"The mode is {mode_heart_rate[0][0]} and its frequent is {mode_heart_rate[1][0]}\u001b[0m\n\u001b[1;37m                                                                                           ^\u001b[0m\n\u001b[1;31mSyntaxError\u001b[0m\u001b[1;31m:\u001b[0m EOL while scanning string literal\n"
     ]
    }
   ],
   "source": [
    "from scipy import stats\n",
    "heart_rate = [80, 79, 70, 66, 77, 65, 71, 78, 66, 68, 67, 64, 71, 82, 68]\n",
    "mode_heart_rate = stats.mode(heart_rate)\n",
    "#print(mode_heart_rate)\n",
    "print(f\"The mode is {mode_heart_rate[0][0]} and its frequent is {mode_heart_rate[1][0]}"
   ]
  },
  {
   "cell_type": "code",
   "execution_count": 13,
   "id": "e2accbc6",
   "metadata": {},
   "outputs": [
    {
     "name": "stdout",
     "output_type": "stream",
     "text": [
      "34.51555555555556\n",
      "5.874994089831543\n"
     ]
    }
   ],
   "source": [
    "import numpy as np\n",
    "heart_rate = [80, 79, 70, 66, 77, 65, 71, 78, 66, 68, 67, 64, 71, 82, 68]\n",
    "heart_rate_variance = np.var(heart_rate)\n",
    "print(heart_rate_variance)\n",
    "heart_rate_sd = np.std(heart_rate)\n",
    "print(heart_rate_sd)"
   ]
  },
  {
   "cell_type": "code",
   "execution_count": 15,
   "id": "881c4bb7",
   "metadata": {},
   "outputs": [
    {
     "name": "stdout",
     "output_type": "stream",
     "text": [
      "[ 1.45248373  1.28227079 -0.24964564 -0.93049739  0.94184492 -1.10071033\n",
      " -0.0794327   1.11205786 -0.93049739 -0.59007152 -0.76028445 -1.27092326\n",
      " -0.0794327   1.79290961 -0.59007152]\n"
     ]
    }
   ],
   "source": [
    "import scipy.stats as stats\n",
    "# Generating z-score of normaly distributed heart rate\n",
    "zscore = stats.zscore(heart_rate)\n",
    "print(zscore)"
   ]
  },
  {
   "cell_type": "code",
   "execution_count": 17,
   "id": "bdcb2920",
   "metadata": {},
   "outputs": [
    {
     "name": "stdout",
     "output_type": "stream",
     "text": [
      "70.0\n"
     ]
    }
   ],
   "source": [
    "import numpy as np\n",
    "heart_rate = [80, 79, 70, 66, 77, 65, 71, 78, 66, 68, 67, 64, 71, 82, 68]\n",
    "# Say K value =50\n",
    "heart_rate_percentile=np.percentile(heart_rate, 50)\n",
    "print(heart_rate_percentile)"
   ]
  },
  {
   "cell_type": "code",
   "execution_count": 18,
   "id": "b0f6f24c",
   "metadata": {},
   "outputs": [
    {
     "name": "stdout",
     "output_type": "stream",
     "text": [
      "65.4\n"
     ]
    }
   ],
   "source": [
    "import numpy as np\n",
    "heart_rate = [80, 79, 70, 66, 77, 65, 71, 78, 66, 68, 67, 64, 71, 82, 68]\n",
    "# Say K value =10\n",
    "heart_rate_percentile=np.percentile(heart_rate, 10)\n",
    "print(heart_rate_percentile)"
   ]
  },
  {
   "cell_type": "code",
   "execution_count": 19,
   "id": "7e0f511a",
   "metadata": {},
   "outputs": [
    {
     "name": "stdout",
     "output_type": "stream",
     "text": [
      "[ 65.64086766  94.77740007  98.79412638  87.14988725  82.22255896\n",
      "  67.85872261 114.51336511  88.6627758   98.01499     93.35493951\n",
      "  67.9905949   84.75574161  72.32187422 101.88635861  69.43362439\n",
      "  61.29649539  71.92989392 105.92259334 102.10152089  68.75970877\n",
      "  63.15480579 118.78414986  90.73825728  93.53845643 117.77672774\n",
      "  90.07554193  67.26998293  85.64491853 109.46959006  87.13735417\n",
      "  80.3953102   88.85896452  73.05995252 104.87178609  85.38469119\n",
      " 103.78109839  81.59471358 115.53579765  68.15355043 115.62464945\n",
      " 110.26641993  62.57359666  76.64467724  98.90072505  78.64936099\n",
      "  95.53388342 105.75172919  95.92908386  71.11596941 112.47527912\n",
      "  83.40917114  97.87811566  88.3382668   69.16987255 102.0307989\n",
      " 111.86789854 106.81460326  60.71388823  73.26453231 111.26067259\n",
      " 103.63443838  85.22055228 118.11736206 116.46542536 105.20406702\n",
      "  88.16478732 119.25583875  69.23678147 105.24624317 104.59477874\n",
      " 119.43773364 100.52647881 106.16007769  99.85839754 110.65842117\n",
      " 108.8709138  101.64769656 109.88421753  71.09927456 108.14948483\n",
      "  93.71874003 108.71130303  90.41645846  89.45564306 108.93208189\n",
      "  79.64496071  80.13972472  65.92058304  73.99415438  70.60756121\n",
      " 107.81298328  65.50655723  88.58924484 111.46375016  80.32958595\n",
      "  78.34014963  80.31843797  75.95709155  66.90393497 101.62493152\n",
      " 115.57438406  96.54422926 109.80754413 115.74113384  64.45030679\n",
      " 107.51395761  89.76804247  92.10705411 116.75257232 100.31643502\n",
      " 111.70881849  93.98228223  85.8471266  108.73541705 105.69072573\n",
      " 111.00591167  98.35208985  99.87107213  88.34764999  69.8105229\n",
      "  60.73376167  80.42779927 118.85149221 103.87331734  95.61512304\n",
      " 116.88689267  97.10758661 110.32094701 113.0369065  111.08249759\n",
      "  90.59167407  99.4151392   92.90869506 109.2629814   91.70443557\n",
      "  71.14238051  74.57983064  86.25834028  81.44103809  61.96943982\n",
      "  91.99997176 115.66195047 103.90096263  96.22485986  94.32512303\n",
      "  63.83086763  72.64259816  94.20321921 109.34669958  96.82618659\n",
      "  84.31130215  66.21517921  84.19915142  60.34521357  74.50819975\n",
      "  79.64128802  63.57697871  86.75987358  78.20307242  68.56923081\n",
      " 111.3924347   71.74546191  90.83520702 116.33705425  68.43088903\n",
      " 101.20619618  98.97873153  85.26915571  90.44051592 105.53086987\n",
      "  75.19406083  90.27674624  87.39474208  92.29677404  73.98197614\n",
      " 105.14549433  60.20462268 105.95201152 118.32163825  85.35891015\n",
      "  62.51846546  67.74217664  95.88806174 115.29059645  86.80520232\n",
      "  63.65135266 100.86072565  62.97377531  95.70913926 117.81757953\n",
      "  82.4564996   80.3731107  108.22108889 100.39768341 118.62777055\n",
      "  72.68431223  87.70429994  80.05185873 104.78918696 111.15671783\n",
      "  66.71172852 111.57917241  62.9061272  109.9109416   60.07076002\n",
      "  61.04091225  92.48902705 107.37610285  78.82765629 105.4005798\n",
      " 100.92335513 104.22779178  96.69863401 118.24684618 106.75992711\n",
      "  68.43794001 104.00840806 111.92835685 105.89164187  86.96900842\n",
      "  63.79937646  70.71325007  61.56599487  78.76566626 101.89981588\n",
      "  81.00922284  75.78063018  67.30998224  76.84492928 115.30332432\n",
      "  92.55844839  67.04371748  76.6853885   86.47630223  82.70295872\n",
      "  82.6407261  110.94705359 103.87945562  62.49607138  64.04589518\n",
      "  77.77805203  68.35218296  79.71970725  71.8005914  116.60308683\n",
      "  82.67514214  88.80268915 110.95632233  89.784943   103.64454435\n",
      "  62.48153904  69.94918445 103.10253758 117.67828019  99.62666156\n",
      "  77.21022542 100.25739346 115.98454886  76.39651191  94.95888818\n",
      "  97.48425135 104.91548354  95.58817209  92.59096699  81.52529598\n",
      "  73.84172075 108.62701883  97.53281629  83.86336477  98.32724088\n",
      "  92.5528205   67.95950744 110.734888   109.57716954  66.82563974\n",
      "  77.99678069 119.41881744 106.42410141 113.04073991 101.84311171\n",
      "  84.53338536  66.46401275  97.21653856  70.40526339  82.57057871\n",
      " 110.64974048  74.64604235 108.17613395  82.49379781  63.82317439\n",
      "  94.67590049  97.89040594  74.40262595 112.32759891  73.52269573\n",
      "  75.26224426  69.92665571  77.39433694  96.05018662  94.91325698\n",
      "  88.06952371  84.50800077 107.54682393  94.56572846  62.73335088\n",
      "  65.24682515 102.06000868  83.81329149 117.47923336 118.55498372\n",
      " 102.58401733 114.30239013  90.08188923  93.40012397 106.69947439\n",
      "  74.75358082 104.01577865 114.50747465  84.88560174  74.60267407\n",
      " 118.51814226  80.42706793  85.96310949  99.00056328 111.53717899\n",
      " 107.346738    90.61867246 110.80136426 101.20151536  70.40161059\n",
      "  79.72470674 102.95914486  67.17337419 118.60817621  99.32388335\n",
      "  73.48388986  73.25718883  72.45007999 101.9096267   82.95890278\n",
      " 118.3777493   60.06682917  82.43142482  70.69363234  64.5394372\n",
      "  74.50334795  77.70445018  60.24779189  65.71853931 112.25788509\n",
      "  66.9428551   64.48205802  92.28322923 109.40969162  66.86687876\n",
      "  73.9535296   71.95627306  81.79720941 112.47486835  70.55396052\n",
      " 115.28230312  63.09848354  79.06953248  74.02918587  87.44518368\n",
      " 111.88578805 111.79573893  76.75585126  85.35761283  81.27852853\n",
      "  72.29288496  73.56584812 106.81335113  87.43679469  71.63842383\n",
      "  99.79065952 106.42311059  74.96340351 113.27842303 110.37685908\n",
      " 106.14259335  68.33231664 111.03541782  70.18876503  98.6829362\n",
      "  97.38007716 114.19762795  78.72317272  76.22889773 101.76466655\n",
      "  93.8428757   74.08683101  75.7086155   73.45512456  97.42845877\n",
      " 100.27352312 101.49708584 114.82269687  68.65160835 117.35763924\n",
      "  70.35232015 113.26625881  62.17305908  70.99111644 109.93866154\n",
      " 107.9514526   76.47600868  61.87841001 102.26609929  83.10115702\n",
      " 107.86192734  98.49657913  91.55916274 102.49139883 107.8111297\n",
      " 114.39326467 103.1802083   67.00586155  64.34245406 106.24771374\n",
      "  89.94805768 112.29599573  60.6458129  106.49016829 107.47057214\n",
      " 118.78591572 102.807845    95.32663061  76.00973854 116.77048793\n",
      "  92.83515519  79.52172685  89.91951507 108.47385086 113.35720622\n",
      " 109.35503776 117.70579921  66.07408536  86.44285913  99.50355442\n",
      " 110.15982623  69.12967473 116.82092682  94.95354935  76.44983191\n",
      "  90.68942109 113.98987876  86.63049328 115.92386573  60.78575745\n",
      "  87.77204408 119.99033239  68.96776355 108.69116272 100.10448038\n",
      "  92.21212723 113.79108071  87.9881523   94.75002987 100.49384774\n",
      "  80.43620705 104.18721415 101.82389044  76.69107828 104.2236322\n",
      "  93.98656808  62.38790126  73.2898005   92.00637519 116.99012774\n",
      "  91.55183344 112.27023842  67.02404193  77.69037814  86.06323771\n",
      "  86.75927038  65.45392522  72.35014986  73.03083699 101.81062219\n",
      "  98.50364963 117.33002149 105.3869632  112.93252339  87.55521764\n",
      " 100.69981903  73.28886393 112.33453376  88.57927456  72.0439676\n",
      "  91.2350237  101.7261628   88.18271079  81.99068195 115.1701593\n",
      " 114.44056447  88.17454275  78.14004525  65.95087519 103.05125335]\n",
      "[ 64  88  97 101 113 104 117  83  61  64  63  98 109  68  87  90  93  94\n",
      " 111  76 115 119  85 110 114  73  71  85  93  64 115  70 113  75  93 100\n",
      "  80 118 111 114  80 118  61 101 120  71  64 104  64 100  63 110  66  80\n",
      " 118  86  66  62  82  89  64 118  96  60  74 112  76  67  87 112  69  97\n",
      " 116  88 111 101  63 109 107  94 100  62  89  92  65 103  94 107  63  82\n",
      " 120  65  99  89  65  61  88  84  89  85  88 116 120  84 108  86  69  87\n",
      "  74  61  93 114  67 109  64  83 114  81  91  90  88  69  66  67  76  75\n",
      "  87  78 102 120 103  98 119 114 111  61 118  97 108  76  64  92  94  86\n",
      "  61  84  60  88  91  79 110  70  99  91  96  89  70 105 110 119  71  96\n",
      " 109  82 119  71 104  64  89  63  93  77  74  92  80  92  79 107  65  67\n",
      "  99  95  62  92 116  69 116 111 110 116  95  88  67  72  84 107  72  76\n",
      " 113  88  92  68  67  74 120  62  76  69  79  73 106  74  78  95  86  87\n",
      "  97  73 116  91  75 120 111 112  69  96  99  94  81  66 103 107  97  76\n",
      " 101  91 109  73  93  99 110 110  71  98  85 109  81  88  64  94  60  76\n",
      "  64 117  96 115  64 101  63  66  83 107  60  92 119  64 115 112 119  77\n",
      "  70  79  64  73 107  72  76 113  77 109 110  73  60 119  67  78  90 102\n",
      "  85  88  90 101  88  89  97 108  93 111  73  84  81  88  96  86  62  96\n",
      "  80 118  84  93  62 106 107  88 106  77  90  68  64 103  65  81  94  70\n",
      " 113  76  66  62  76 108  87  84 118 118  75  89 108 106 107  94  79  86\n",
      " 100  77  84  92 109  72 100  61 100  70 109 107  76  97  70 118 117  83\n",
      " 106  81  92  99  78  84  99  92  95  99  79  90 112  97 107 101  81  67\n",
      " 108 105  77  61  86  96  70  76  80  76  79 120  85 112  74  81  91 117\n",
      "  70 112  90  66  96  66  74  73  68  73  82 110 100 107  71 109  66  98\n",
      " 110  70  90  91  66  93  79  77  99  90  97  93 113 108  78  74  71 100\n",
      "  61  98 106  98  66  94 100 109  66 117  62  97  79  93 113 102  67  78\n",
      "  70  78  97  76  79  86  93  98  82  90 102  92  91 108  86  75 109 112\n",
      " 106  68  63  60 110  88  89  74  79  66  88 102  95  88 116 118  75 106\n",
      " 107  72  67 117  91 117  63 102 106 114 105  69  63 119]\n"
     ]
    }
   ],
   "source": [
    "import numpy as np\n",
    "# Generate an array of 500 data with random values btn 60 and 120\n",
    "heart_rate = np.random.uniform(60, 120, 500)\n",
    "print(heart_rate)\n",
    "# To generate integers\n",
    "heart_rate = np.random.randint(60, 120+1, 500)\n",
    "print(heart_rate)"
   ]
  },
  {
   "cell_type": "code",
   "execution_count": 22,
   "id": "6f888a2b",
   "metadata": {},
   "outputs": [
    {
     "data": {
      "image/png": "[encoded data removed]",
      "text/plain": [
       "<Figure size 432x288 with 1 Axes>"
      ]
     },
     "metadata": {
      "needs_background": "light"
     },
     "output_type": "display_data"
    }
   ],
   "source": [
    "import matplotlib.pyplot as plt\n",
    "# plot histogram with heart rate in X axix and numbers of occurence in y axis\n",
    "# We are generating histogram with 60 bars\n",
    "plt.hist(heart_rate, 60)\n",
    "plt.show()"
   ]
  },
  {
   "cell_type": "code",
   "execution_count": 23,
   "id": "3d5bab63",
   "metadata": {},
   "outputs": [
    {
     "name": "stdout",
     "output_type": "stream",
     "text": [
      "[72.62191148 74.33963024 63.26900684 79.41282307 65.96207669 76.25540078\n",
      " 72.69315401 67.47422751 76.44576054 79.37323562 67.06389148 74.51927753\n",
      " 76.03883692 70.97244802 71.23234829 67.10383849 66.64606149 62.6193333\n",
      " 70.7449359  80.66846397 72.83770494 75.44820822 63.85181454 75.71703118\n",
      " 63.55094435 67.09912185 76.06967892 74.20433478 75.36268837 77.16184603\n",
      " 70.36753063 69.72863059 62.96446559 67.98878607 65.28245496 73.40076961\n",
      " 53.88851747 70.263904   69.48231044 66.92211436 64.27867572 64.46318315\n",
      " 65.59374671 62.9252541  68.31963765 67.25624808 73.58579707 67.56834854\n",
      " 65.65863262 79.50363883 62.74161025 71.57417873 76.97475827 71.37178653\n",
      " 66.88861238 76.16269608 72.26743368 69.28157925 73.20951763 62.4879161\n",
      " 65.69090865 69.34554212 68.09660715 70.48787071 76.49861595 66.81484824\n",
      " 70.89425452 65.06043068 76.30974932 70.68519892 67.27357799 71.28493596\n",
      " 76.38797983 78.21057377 69.43096745 67.35525454 72.87696553 63.21610215\n",
      " 69.67471585 65.6790184  77.36400903 77.25085625 63.68573136 77.6853453\n",
      " 76.71206426 76.82004657 63.23112158 77.63719545 64.51083858 78.54518878\n",
      " 61.17649563 74.75423892 74.8825877  66.86948651 68.54977313 67.02370628\n",
      " 68.34744388 70.51852721 63.89363002 68.13030483 77.9716973  72.18602786\n",
      " 57.37947436 63.28291942 72.43980487 59.38343519 70.57419966 71.88886834\n",
      " 62.17553263 75.96577694 76.91256287 62.61258075 65.95860124 67.55236213\n",
      " 69.52952393 69.72385353 71.16564026 76.77273539 72.78368361 73.98784421\n",
      " 79.68354771 78.36326952 69.00896707 63.28173159 79.34243171 78.9686151\n",
      " 81.51333765 80.40878964 65.73519045 63.15129079 63.93835179 67.30271632\n",
      " 60.01285133 72.46926682 63.53681655 67.76908669 74.84960909 69.9608822\n",
      " 69.5425153  73.56463409 76.01562556 65.57429758 69.97710337 70.56028922\n",
      " 78.67112841 71.99933857 66.65411501 67.84878688 71.24583308 66.2005524\n",
      " 69.33950365 67.48988634 68.53004006 65.47889128 75.89474886 72.55827277\n",
      " 66.20226177 77.50151029 74.90935969 70.97919432 72.41525307 68.18898749\n",
      " 64.11955983 70.11385677 68.63188203 73.3721522  61.47805216 73.46282197\n",
      " 74.39732326 71.63773841 63.71764942 72.16225109 64.27740738 65.36650545\n",
      " 66.51891649 71.01285231 60.87020805 66.47140611 66.06559426 64.75890766\n",
      " 69.78756843 68.1735268  72.24274647 74.33386279 69.24066378 71.60509907\n",
      " 69.21927556 74.76489396 73.38774082 69.79328566 76.10239114 63.82445417\n",
      " 70.31086265 64.55460345 66.79092487 60.67643222 73.55908313 70.62546588\n",
      " 67.5346641  72.09483722 76.96053486 78.92806334 66.31900985 70.76109327\n",
      " 74.71029929 60.52449962 64.80545263 71.33852592 68.59908813 70.73674281\n",
      " 71.41289152 68.19905133 65.64314812 69.68987961 68.62027535 72.76119171\n",
      " 65.675548   67.17714501 82.09211244 64.76794439 87.18081865 66.03338384\n",
      " 67.27684308 70.31473232 68.51997531 79.76490502 63.68183697 67.93479723\n",
      " 73.16489748 72.31682464 64.36163435 67.66367106 78.98582605 65.71017976\n",
      " 72.25294377 68.23978116 77.09142514 63.54190264 70.29181193 62.15345113\n",
      " 61.23171317 66.61107047 78.91633429 77.18328267 66.77368347 76.5541167\n",
      " 65.18712527 69.53310399 73.58751973 70.50899894 62.87868978 69.12218933\n",
      " 65.48899073 64.18914459 70.90857733 78.76253644 69.47377706 73.64956011\n",
      " 71.28586904 70.86952704 61.17262117 71.84876263 66.42022249 64.04029551\n",
      " 71.02492352 66.78592914 69.00786695 70.82041203 62.95719744 77.63123296\n",
      " 60.17556526 63.1922738  64.39632714 70.19562718 73.25686266 64.56233178\n",
      " 75.95505572 72.3376921  76.08802964 64.49908683 70.33783768 70.41578698\n",
      " 70.03028509 75.09764936 67.28314364 65.92984946 79.88374144 71.36340044\n",
      " 70.02643434 68.4516029  70.98245939 67.06401684 77.98679341 70.159467\n",
      " 69.17607031 62.2414525  75.33463455 71.19146242 68.27761988 62.77035691\n",
      " 60.05763486 72.32942156 68.27929365 66.6116645  60.99996641 70.47911654\n",
      " 69.28994994 77.565042   66.29707348 73.12020067 70.71054215 73.89572707\n",
      " 64.62729302 81.65457848 63.75417471 75.75423555 63.54414244 76.78996204\n",
      " 59.32627515 64.76192931 69.50957349 68.62472809 76.11548635 63.0238566\n",
      " 68.48509926 72.38316645 77.42776707 74.74226425 63.13615321 68.80027808\n",
      " 77.67240174 67.72769155 73.43794083 72.86365675 70.08258878 69.55439007\n",
      " 69.3501958  73.15144019 66.70812054 68.8380153  71.80838149 69.03235167\n",
      " 70.82594703 79.49527115 74.08234203 69.74232068 71.52704237 68.25891542\n",
      " 68.2219258  71.83174925 71.4399391  59.17562036 68.39168462 72.49260927\n",
      " 67.02709805 69.52567034 81.03414144 63.74253418 69.85675935 73.90911956\n",
      " 74.35708958 69.22550816 66.26415047 67.11100332 71.53989279 71.32206407\n",
      " 75.68145265 74.33335684 75.67939402 64.17085116 62.95739369 69.8935732\n",
      " 81.52337129 61.55769941 74.19054131 62.70038921 73.22157038 70.80274882\n",
      " 61.50666304 63.40473898 79.65067878 58.5105082  68.82014083 69.04478118\n",
      " 65.12460736 61.06322923 71.56286152 63.35292869 70.23162843 64.09351358\n",
      " 56.41465368 72.00253826 64.40524907 59.34695866 77.21603708 73.19802038\n",
      " 70.22834073 71.23276136 70.02283751 68.8580341  71.11362585 70.75779353\n",
      " 71.94278676 70.21049674 70.17852749 67.26630812 66.95603742 76.97709738\n",
      " 69.77710177 69.13581506 71.9119141  73.78289787 73.30726957 84.58869837\n",
      " 65.89568044 66.05959061 71.76178507 62.91274497 65.83227099 67.9164553\n",
      " 65.71083098 70.02176827 72.13429151 64.07288863 77.17389024 68.10168207\n",
      " 68.42055439 77.5405022  71.04382549 65.02100284 71.86357432 78.58147228\n",
      " 64.78192383 68.65966699 72.37384559 69.00577174 74.30611765 77.22984106\n",
      " 69.68957189 76.77255025 66.85628255 62.95425208 63.85184161 64.87613725\n",
      " 70.37127766 63.0728205  67.33888114 65.151168   82.97241276 74.93765365\n",
      " 67.08506078 68.5466479  74.15869694 60.29593325 71.40933404 61.78775034\n",
      " 62.01913887 68.65315093 65.63059161 69.31911538 67.10515611 77.22759867\n",
      " 72.70174059 75.59386855 75.48036956 79.66322678 63.16693966 66.12569693\n",
      " 73.57479974 75.25638763 65.6520927  73.24629065 73.73418196 66.26971061\n",
      " 65.61951379 70.60578952 76.02490177 68.94629778 73.82608297 80.72196401\n",
      " 64.59116183 76.79564195 75.34653164 67.69649156 67.3833881  61.53397398\n",
      " 65.04777168 75.20087973 70.09019218 71.87001901 66.62205269 74.57952431\n",
      " 72.69992161 71.40849871 73.12676293 64.51934584 77.30461153 64.74423403\n",
      " 64.91950619 68.63343025]\n"
     ]
    }
   ],
   "source": [
    "import numpy as np\n",
    "# Generate an array of 500 data with random values with a center value (mean) of 72 and\n",
    "heart_rate = np.random.normal(70, 5, 500)\n",
    "print(heart_rate)"
   ]
  },
  {
   "cell_type": "code",
   "execution_count": 24,
   "id": "2c440a87",
   "metadata": {},
   "outputs": [
    {
     "data": {
      "text/plain": [
       "<function matplotlib.pyplot.show(close=None, block=None)>"
      ]
     },
     "execution_count": 24,
     "metadata": {},
     "output_type": "execute_result"
    },
    {
     "data": {
      "image/png": "[encoded data removed]",
      "text/plain": [
       "<Figure size 432x288 with 1 Axes>"
      ]
     },
     "metadata": {
      "needs_background": "light"
     },
     "output_type": "display_data"
    }
   ],
   "source": [
    "import matplotlib.pyplot as plt\n",
    "# Plot histogram with heart rate in x and number of occurence in y axis. We are generat\n",
    "plt.hist(heart_rate, 60)\n",
    "plt.show"
   ]
  },
  {
   "cell_type": "code",
   "execution_count": 3,
   "id": "a36829f2",
   "metadata": {},
   "outputs": [
    {
     "name": "stdout",
     "output_type": "stream",
     "text": [
      "[2, 4, 6, 8]\n",
      "(4,)\n"
     ]
    }
   ],
   "source": [
    "#define an arry \n",
    "import numpy as np\n",
    "mylist= [2,4,6,8]\n",
    "myarray=np.array(mylist)\n",
    "print(mylist)\n",
    "print(myarray.shape)"
   ]
  },
  {
   "cell_type": "code",
   "execution_count": 4,
   "id": "9c21bcf8",
   "metadata": {},
   "outputs": [
    {
     "name": "stdout",
     "output_type": "stream",
     "text": [
      "([2, 4, 6], [6, 8, 10])\n",
      "(2, 3)\n",
      "first row: [2 4 6]\n",
      "second row:  [ 6  8 10]\n",
      "whole colum: [ 6 10]\n"
     ]
    }
   ],
   "source": [
    "import numpy as np\n",
    "mylist= [2,4,6],[6,8,10]\n",
    "myarray= np.array(mylist)\n",
    "print(mylist)\n",
    "print(myarray.shape)\n",
    "print(\"first row: %s\" %myarray[0])\n",
    "print(\"second row:  %s\" %myarray[1])\n",
    "print (\"whole colum: %s\" %myarray[:,2])"
   ]
  },
  {
   "cell_type": "code",
   "execution_count": 5,
   "id": "6e2d605b",
   "metadata": {},
   "outputs": [
    {
     "name": "stdout",
     "output_type": "stream",
     "text": [
      "addition: [10 10 10]\n",
      "mutiplication: [24 24 24]\n",
      "substract: [2 2 2]\n",
      "division:[1.5 1.5 1.5]\n"
     ]
    }
   ],
   "source": [
    "#arithmetic\n",
    "import numpy as np\n",
    "myarray1= np.array([4,4,4])\n",
    "myarray2= np.array([6,6,6])\n",
    "print(\"addition: %s\" %(myarray1+myarray2))\n",
    "print(\"mutiplication: %s\" %(myarray1*myarray2))\n",
    "print(\"substract: %s\" %(myarray2-myarray1))\n",
    "print(\"division:%s\" %(myarray2/myarray1))"
   ]
  },
  {
   "cell_type": "code",
   "execution_count": 8,
   "id": "e59c7bd8",
   "metadata": {},
   "outputs": [
    {
     "data": {
      "text/plain": [
       "<function matplotlib.pyplot.show(close=None, block=None)>"
      ]
     },
     "execution_count": 8,
     "metadata": {},
     "output_type": "execute_result"
    },
    {
     "data": {
      "image/png": "[encoded data removed]",
      "text/plain": [
       "<Figure size 432x288 with 1 Axes>"
      ]
     },
     "metadata": {
      "needs_background": "light"
     },
     "output_type": "display_data"
    }
   ],
   "source": [
    "#basic line plot\n",
    "import matplotlib.pyplot as plt\n",
    "import numpy as np\n",
    "myarray=(3,6,7,9,12)\n",
    "plt.hist(myarray)\n",
    "plt.xlabel(\"some x axis\")\n",
    "plt.ylabel(\"some y axis\")\n",
    "plt.show"
   ]
  },
  {
   "cell_type": "markdown",
   "id": "8d9c89be",
   "metadata": {},
   "source": []
  }
 ],
 "metadata": {
  "kernelspec": {
   "display_name": "Python 3",
   "language": "python",
   "name": "python3"
  },
  "language_info": {
   "codemirror_mode": {
    "name": "ipython",
    "version": 3
   },
   "file_extension": ".py",
   "mimetype": "text/x-python",
   "name": "python",
   "nbconvert_exporter": "python",
   "pygments_lexer": "ipython3",
   "version": "3.8.8"
  }
 },
 "nbformat": 4,
 "nbformat_minor": 5
}
