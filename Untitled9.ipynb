{
 "cells": [
  {
   "cell_type": "code",
   "execution_count": 1,
   "id": "870a16f7",
   "metadata": {},
   "outputs": [
    {
     "name": "stdout",
     "output_type": "stream",
     "text": [
      "[10, 11, 12]\n",
      "[10 11 12]\n"
     ]
    }
   ],
   "source": [
    "#define an array\n",
    "import numpy as np\n",
    "mylist= [10,11,12]\n",
    "myarray= np.array(mylist)\n",
    "print(mylist)\n",
    "print(myarray)"
   ]
  },
  {
   "cell_type": "code",
   "execution_count": 3,
   "id": "b622aa62",
   "metadata": {},
   "outputs": [
    {
     "name": "stdout",
     "output_type": "stream",
     "text": [
      "additional:[9 9 9]\n",
      "multiplication:[18 18 18]\n",
      "substaction:[3 3 3]\n",
      "division:[2. 2. 2.]\n"
     ]
    }
   ],
   "source": [
    "#arithmetic\n",
    "import numpy as np\n",
    "myarray1=np.array([3,3,3])\n",
    "myarray2=np.array([6,6,6])\n",
    "print(\"additional:%s\" %(myarray1+myarray2))\n",
    "print(\"multiplication:%s\" %(myarray2*myarray1))\n",
    "print(\"substaction:%s\" %(myarray2-myarray1))\n",
    "print(\"division:%s\" %(myarray2/myarray1))"
   ]
  },
  {
   "cell_type": "code",
   "execution_count": 6,
   "id": "820a231e",
   "metadata": {},
   "outputs": [
    {
     "name": "stdout",
     "output_type": "stream",
     "text": [
      "([2, 4, 6, 8], [8, 9, 10, 11])\n",
      "(2, 4)\n"
     ]
    },
    {
     "ename": "ValueError",
     "evalue": "unsupported format character 'S' (0x53) at index 11",
     "output_type": "error",
     "traceback": [
      "\u001b[1;31m---------------------------------------------------------------------------\u001b[0m",
      "\u001b[1;31mValueError\u001b[0m                                Traceback (most recent call last)",
      "\u001b[1;32m<ipython-input-6-78f6607dc2fe>\u001b[0m in \u001b[0;36m<module>\u001b[1;34m\u001b[0m\n\u001b[0;32m      4\u001b[0m \u001b[0mprint\u001b[0m\u001b[1;33m(\u001b[0m\u001b[0mmylist\u001b[0m\u001b[1;33m)\u001b[0m\u001b[1;33m\u001b[0m\u001b[1;33m\u001b[0m\u001b[0m\n\u001b[0;32m      5\u001b[0m \u001b[0mprint\u001b[0m\u001b[1;33m(\u001b[0m\u001b[0mmyarray\u001b[0m\u001b[1;33m.\u001b[0m\u001b[0mshape\u001b[0m\u001b[1;33m)\u001b[0m\u001b[1;33m\u001b[0m\u001b[1;33m\u001b[0m\u001b[0m\n\u001b[1;32m----> 6\u001b[1;33m \u001b[0mprint\u001b[0m\u001b[1;33m(\u001b[0m\u001b[1;34m\"first row:%S\"\u001b[0m \u001b[1;33m%\u001b[0m\u001b[0mmyarray\u001b[0m\u001b[1;33m[\u001b[0m\u001b[1;36m0\u001b[0m\u001b[1;33m]\u001b[0m\u001b[1;33m)\u001b[0m\u001b[1;33m\u001b[0m\u001b[1;33m\u001b[0m\u001b[0m\n\u001b[0m\u001b[0;32m      7\u001b[0m \u001b[0mprint\u001b[0m\u001b[1;33m(\u001b[0m\u001b[1;34m\"second row:%s\"\u001b[0m \u001b[1;33m%\u001b[0m\u001b[0mmyarray\u001b[0m\u001b[1;33m[\u001b[0m\u001b[1;36m1\u001b[0m\u001b[1;33m]\u001b[0m\u001b[1;33m)\u001b[0m\u001b[1;33m\u001b[0m\u001b[1;33m\u001b[0m\u001b[0m\n\u001b[0;32m      8\u001b[0m \u001b[0mprint\u001b[0m\u001b[1;33m(\u001b[0m\u001b[1;34m\"whole column:%S\"\u001b[0m \u001b[1;33m%\u001b[0m\u001b[0mmyarray\u001b[0m\u001b[1;33m[\u001b[0m\u001b[1;33m:\u001b[0m\u001b[1;33m,\u001b[0m\u001b[1;36m2\u001b[0m\u001b[1;33m]\u001b[0m\u001b[1;33m)\u001b[0m\u001b[1;33m\u001b[0m\u001b[1;33m\u001b[0m\u001b[0m\n",
      "\u001b[1;31mValueError\u001b[0m: unsupported format character 'S' (0x53) at index 11"
     ]
    }
   ],
   "source": [
    "import numpy as np\n",
    "mylist=[2,4,6,8],[8,9,10,11]\n",
    "myarray= np.array(mylist)\n",
    "print(mylist)\n",
    "print(myarray.shape)\n",
    "print(\"first row:%S\" %myarray[0])\n",
    "print(\"second row:%s\" %myarray[1])\n",
    "print(\"whole column:%S\" %myarray[:,2])"
   ]
  },
  {
   "cell_type": "code",
   "execution_count": 11,
   "id": "0f12f1f3",
   "metadata": {},
   "outputs": [
    {
     "data": {
      "image/png": "[encoded data removed]",
      "text/plain": [
       "<Figure size 432x288 with 1 Axes>"
      ]
     },
     "metadata": {
      "needs_background": "light"
     },
     "output_type": "display_data"
    }
   ],
   "source": [
    "#basic line plot\n",
    "import matplotlib.pyplot as plt\n",
    "import numpy as np\n",
    "myarray=np.array([2,4,6,8,10])\n",
    "plt.plot(myarray)\n",
    "plt.xlabel(\"some x axis\")\n",
    "plt.ylabel(\"some y axis\")\n",
    "plt.show()"
   ]
  },
  {
   "cell_type": "code",
   "execution_count": 12,
   "id": "704ef1ac",
   "metadata": {},
   "outputs": [
    {
     "data": {
      "text/plain": [
       "Text(0, 0.5, 'some y axis')"
      ]
     },
     "execution_count": 12,
     "metadata": {},
     "output_type": "execute_result"
    },
    {
     "data": {
      "image/png": "[encoded data removed]",
      "text/plain": [
       "<Figure size 432x288 with 1 Axes>"
      ]
     },
     "metadata": {
      "needs_background": "light"
     },
     "output_type": "display_data"
    }
   ],
   "source": [
    "import matplotlib.pyplot as plt\n",
    "import numpy as np\n",
    "myarray=np.array([3,5,7,9])\n",
    "plt.hist(myarray)\n",
    "plt.xlabel(\"some x axis\")\n",
    "plt.ylabel(\"some y axis\")"
   ]
  },
  {
   "cell_type": "code",
   "execution_count": 14,
   "id": "b3a3a3ff",
   "metadata": {},
   "outputs": [
    {
     "data": {
      "image/png": "[encoded data removed]",
      "text/plain": [
       "<Figure size 432x288 with 1 Axes>"
      ]
     },
     "metadata": {
      "needs_background": "light"
     },
     "output_type": "display_data"
    }
   ],
   "source": [
    "import matplotlib.pyplot as plt\n",
    "import numpy as np\n",
    "X=np.array([2,4,6,8])\n",
    "Y=np.array([3,5,7,9])\n",
    "plt.scatter(X,Y)\n",
    "plt.xlabel(\"some x axis\")\n",
    "plt.ylabel(\"some y axis\")\n",
    "plt.show()"
   ]
  },
  {
   "cell_type": "code",
   "execution_count": null,
   "id": "54758e59",
   "metadata": {},
   "outputs": [],
   "source": []
  }
 ],
 "metadata": {
  "kernelspec": {
   "display_name": "Python 3",
   "language": "python",
   "name": "python3"
  },
  "language_info": {
   "codemirror_mode": {
    "name": "ipython",
    "version": 3
   },
   "file_extension": ".py",
   "mimetype": "text/x-python",
   "name": "python",
   "nbconvert_exporter": "python",
   "pygments_lexer": "ipython3",
   "version": "3.8.8"
  }
 },
 "nbformat": 4,
 "nbformat_minor": 5
}
